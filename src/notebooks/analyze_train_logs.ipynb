{
 "cells": [
  {
   "cell_type": "code",
   "execution_count": 3,
   "id": "initial_id",
   "metadata": {
    "ExecuteTime": {
     "end_time": "2025-07-23T10:24:04.328184Z",
     "start_time": "2025-07-23T10:24:03.753445Z"
    },
    "collapsed": true
   },
   "outputs": [],
   "source": [
    "import pandas as pd"
   ]
  },
  {
   "cell_type": "code",
   "execution_count": 4,
   "id": "a0a37c91ad75c816",
   "metadata": {
    "ExecuteTime": {
     "end_time": "2025-07-23T10:24:04.399370Z",
     "start_time": "2025-07-23T10:24:04.375649Z"
    }
   },
   "outputs": [
    {
     "data": {
      "text/html": [
       "<div>\n",
       "<style scoped>\n",
       "    .dataframe tbody tr th:only-of-type {\n",
       "        vertical-align: middle;\n",
       "    }\n",
       "\n",
       "    .dataframe tbody tr th {\n",
       "        vertical-align: top;\n",
       "    }\n",
       "\n",
       "    .dataframe thead th {\n",
       "        text-align: right;\n",
       "    }\n",
       "</style>\n",
       "<table border=\"1\" class=\"dataframe\">\n",
       "  <thead>\n",
       "    <tr style=\"text-align: right;\">\n",
       "      <th></th>\n",
       "      <th>unique_predicted_labels</th>\n",
       "      <th>accuracy</th>\n",
       "      <th>precision</th>\n",
       "      <th>recall</th>\n",
       "      <th>f1_score</th>\n",
       "      <th>confusion_matrix</th>\n",
       "      <th>train_loss</th>\n",
       "      <th>val_loss</th>\n",
       "      <th>start_time</th>\n",
       "      <th>end_time</th>\n",
       "      <th>training_time</th>\n",
       "      <th>num_epochs</th>\n",
       "      <th>batch_size</th>\n",
       "      <th>model_name</th>\n",
       "      <th>model_path</th>\n",
       "      <th>lr</th>\n",
       "    </tr>\n",
       "  </thead>\n",
       "  <tbody>\n",
       "    <tr>\n",
       "      <th>0</th>\n",
       "      <td>[0, 1, 2, 3, 4, 5, 6, 7, 8]</td>\n",
       "      <td>69.792935</td>\n",
       "      <td>87.982994</td>\n",
       "      <td>69.792935</td>\n",
       "      <td>75.114993</td>\n",
       "      <td>cancer  d...</td>\n",
       "      <td>0.841132</td>\n",
       "      <td>0.624254</td>\n",
       "      <td>2025-07-02 09:49:15.516438</td>\n",
       "      <td>2025-07-02 09:49:54.749879</td>\n",
       "      <td>39.233441</td>\n",
       "      <td>1</td>\n",
       "      <td>16</td>\n",
       "      <td>google/bert_uncased_L-2_H-128_A-2</td>\n",
       "      <td>src/ml_models/model_files/topic_clustering_mod...</td>\n",
       "      <td>0.0010</td>\n",
       "    </tr>\n",
       "    <tr>\n",
       "      <th>1</th>\n",
       "      <td>[0, 1, 2, 3, 4, 5, 6, 7, 8]</td>\n",
       "      <td>73.507917</td>\n",
       "      <td>86.490981</td>\n",
       "      <td>73.507917</td>\n",
       "      <td>78.076230</td>\n",
       "      <td>cancer  d...</td>\n",
       "      <td>0.859194</td>\n",
       "      <td>0.738549</td>\n",
       "      <td>2025-07-02 09:53:10.129583</td>\n",
       "      <td>2025-07-02 09:53:46.960284</td>\n",
       "      <td>36.830701</td>\n",
       "      <td>1</td>\n",
       "      <td>16</td>\n",
       "      <td>google/bert_uncased_L-2_H-128_A-2</td>\n",
       "      <td>src/ml_models/model_files/topic_clustering_mod...</td>\n",
       "      <td>0.0010</td>\n",
       "    </tr>\n",
       "    <tr>\n",
       "      <th>2</th>\n",
       "      <td>[0, 1, 2, 3, 4, 5, 6, 7, 8]</td>\n",
       "      <td>82.095006</td>\n",
       "      <td>92.496934</td>\n",
       "      <td>82.095006</td>\n",
       "      <td>85.684584</td>\n",
       "      <td>cancer  d...</td>\n",
       "      <td>0.272975</td>\n",
       "      <td>0.555589</td>\n",
       "      <td>2025-07-02 09:56:17.129874</td>\n",
       "      <td>2025-07-02 10:01:35.860099</td>\n",
       "      <td>318.730225</td>\n",
       "      <td>10</td>\n",
       "      <td>32</td>\n",
       "      <td>google/bert_uncased_L-2_H-128_A-2</td>\n",
       "      <td>src/ml_models/model_files/topic_clustering_mod...</td>\n",
       "      <td>0.0010</td>\n",
       "    </tr>\n",
       "    <tr>\n",
       "      <th>3</th>\n",
       "      <td>[0, 1, 2, 3, 4, 5, 6, 7, 8]</td>\n",
       "      <td>82.643118</td>\n",
       "      <td>91.669031</td>\n",
       "      <td>82.643118</td>\n",
       "      <td>85.897986</td>\n",
       "      <td>cancer  d...</td>\n",
       "      <td>0.234548</td>\n",
       "      <td>0.681628</td>\n",
       "      <td>2025-07-02 10:02:25.038630</td>\n",
       "      <td>2025-07-02 10:13:02.454080</td>\n",
       "      <td>637.415450</td>\n",
       "      <td>20</td>\n",
       "      <td>32</td>\n",
       "      <td>google/bert_uncased_L-2_H-128_A-2</td>\n",
       "      <td>src/ml_models/model_files/topic_clustering_mod...</td>\n",
       "      <td>0.0010</td>\n",
       "    </tr>\n",
       "    <tr>\n",
       "      <th>4</th>\n",
       "      <td>[0, 1, 2, 3, 4, 5, 6, 7, 8]</td>\n",
       "      <td>83.252132</td>\n",
       "      <td>91.578542</td>\n",
       "      <td>83.252132</td>\n",
       "      <td>86.286280</td>\n",
       "      <td>cancer  d...</td>\n",
       "      <td>0.235535</td>\n",
       "      <td>0.597587</td>\n",
       "      <td>2025-07-02 10:21:40.551729</td>\n",
       "      <td>2025-07-02 10:32:23.801593</td>\n",
       "      <td>643.249864</td>\n",
       "      <td>20</td>\n",
       "      <td>32</td>\n",
       "      <td>google/bert_uncased_L-2_H-128_A-2</td>\n",
       "      <td>src/ml_models/model_files/topic_clustering_mod...</td>\n",
       "      <td>0.0001</td>\n",
       "    </tr>\n",
       "  </tbody>\n",
       "</table>\n",
       "</div>"
      ],
      "text/plain": [
       "       unique_predicted_labels   accuracy  precision     recall   f1_score  \\\n",
       "0  [0, 1, 2, 3, 4, 5, 6, 7, 8]  69.792935  87.982994  69.792935  75.114993   \n",
       "1  [0, 1, 2, 3, 4, 5, 6, 7, 8]  73.507917  86.490981  73.507917  78.076230   \n",
       "2  [0, 1, 2, 3, 4, 5, 6, 7, 8]  82.095006  92.496934  82.095006  85.684584   \n",
       "3  [0, 1, 2, 3, 4, 5, 6, 7, 8]  82.643118  91.669031  82.643118  85.897986   \n",
       "4  [0, 1, 2, 3, 4, 5, 6, 7, 8]  83.252132  91.578542  83.252132  86.286280   \n",
       "\n",
       "                                    confusion_matrix  train_loss  val_loss  \\\n",
       "0                                       cancer  d...    0.841132  0.624254   \n",
       "1                                       cancer  d...    0.859194  0.738549   \n",
       "2                                       cancer  d...    0.272975  0.555589   \n",
       "3                                       cancer  d...    0.234548  0.681628   \n",
       "4                                       cancer  d...    0.235535  0.597587   \n",
       "\n",
       "                   start_time                    end_time  training_time  \\\n",
       "0  2025-07-02 09:49:15.516438  2025-07-02 09:49:54.749879      39.233441   \n",
       "1  2025-07-02 09:53:10.129583  2025-07-02 09:53:46.960284      36.830701   \n",
       "2  2025-07-02 09:56:17.129874  2025-07-02 10:01:35.860099     318.730225   \n",
       "3  2025-07-02 10:02:25.038630  2025-07-02 10:13:02.454080     637.415450   \n",
       "4  2025-07-02 10:21:40.551729  2025-07-02 10:32:23.801593     643.249864   \n",
       "\n",
       "   num_epochs  batch_size                         model_name  \\\n",
       "0           1          16  google/bert_uncased_L-2_H-128_A-2   \n",
       "1           1          16  google/bert_uncased_L-2_H-128_A-2   \n",
       "2          10          32  google/bert_uncased_L-2_H-128_A-2   \n",
       "3          20          32  google/bert_uncased_L-2_H-128_A-2   \n",
       "4          20          32  google/bert_uncased_L-2_H-128_A-2   \n",
       "\n",
       "                                          model_path      lr  \n",
       "0  src/ml_models/model_files/topic_clustering_mod...  0.0010  \n",
       "1  src/ml_models/model_files/topic_clustering_mod...  0.0010  \n",
       "2  src/ml_models/model_files/topic_clustering_mod...  0.0010  \n",
       "3  src/ml_models/model_files/topic_clustering_mod...  0.0010  \n",
       "4  src/ml_models/model_files/topic_clustering_mod...  0.0001  "
      ]
     },
     "execution_count": 4,
     "metadata": {},
     "output_type": "execute_result"
    }
   ],
   "source": [
    "topic_df = pd.read_csv(\n",
    "    \"/Users/nguyennguyen/Desktop/github_repos/personal/rag_medical/src/data/training_logs/topic_clustering.csv\"\n",
    ")\n",
    "\n",
    "topic_df.head()"
   ]
  },
  {
   "cell_type": "code",
   "execution_count": 5,
   "id": "9d5a0379a4640213",
   "metadata": {
    "ExecuteTime": {
     "end_time": "2025-07-23T10:24:07.192342Z",
     "start_time": "2025-07-23T10:24:07.187450Z"
    }
   },
   "outputs": [],
   "source": [
    "topic_df = topic_df[topic_df[\"model_name\"] == \"google/bert_uncased_L-2_H-128_A-2\"]"
   ]
  },
  {
   "cell_type": "code",
   "execution_count": 6,
   "id": "26262795a7ab34b5",
   "metadata": {
    "ExecuteTime": {
     "end_time": "2025-07-23T10:24:07.250466Z",
     "start_time": "2025-07-23T10:24:07.246352Z"
    }
   },
   "outputs": [],
   "source": [
    "topic_df = topic_df[[\"accuracy\", \"training_time\", \"num_epochs\", \"batch_size\", \"lr\"]]"
   ]
  },
  {
   "cell_type": "code",
   "execution_count": 7,
   "id": "1dcb062c5b25ea6a",
   "metadata": {
    "ExecuteTime": {
     "end_time": "2025-07-23T10:24:10.091511Z",
     "start_time": "2025-07-23T10:24:10.088954Z"
    }
   },
   "outputs": [],
   "source": [
    "topic_df = topic_df[topic_df[\"batch_size\"] == 32]\n",
    "topic_df = topic_df[topic_df[\"lr\"] == 5e-6]"
   ]
  },
  {
   "cell_type": "code",
   "execution_count": 8,
   "id": "3249362918b1eb6",
   "metadata": {
    "ExecuteTime": {
     "end_time": "2025-07-23T10:24:10.599342Z",
     "start_time": "2025-07-23T10:24:10.594673Z"
    }
   },
   "outputs": [
    {
     "data": {
      "text/html": [
       "<div>\n",
       "<style scoped>\n",
       "    .dataframe tbody tr th:only-of-type {\n",
       "        vertical-align: middle;\n",
       "    }\n",
       "\n",
       "    .dataframe tbody tr th {\n",
       "        vertical-align: top;\n",
       "    }\n",
       "\n",
       "    .dataframe thead th {\n",
       "        text-align: right;\n",
       "    }\n",
       "</style>\n",
       "<table border=\"1\" class=\"dataframe\">\n",
       "  <thead>\n",
       "    <tr style=\"text-align: right;\">\n",
       "      <th></th>\n",
       "      <th>accuracy</th>\n",
       "      <th>training_time</th>\n",
       "      <th>num_epochs</th>\n",
       "      <th>batch_size</th>\n",
       "      <th>lr</th>\n",
       "    </tr>\n",
       "  </thead>\n",
       "  <tbody>\n",
       "    <tr>\n",
       "      <th>8</th>\n",
       "      <td>75.700365</td>\n",
       "      <td>942.959489</td>\n",
       "      <td>30</td>\n",
       "      <td>32</td>\n",
       "      <td>0.000005</td>\n",
       "    </tr>\n",
       "    <tr>\n",
       "      <th>9</th>\n",
       "      <td>79.658952</td>\n",
       "      <td>1564.509933</td>\n",
       "      <td>50</td>\n",
       "      <td>32</td>\n",
       "      <td>0.000005</td>\n",
       "    </tr>\n",
       "    <tr>\n",
       "      <th>10</th>\n",
       "      <td>81.059683</td>\n",
       "      <td>2521.779356</td>\n",
       "      <td>80</td>\n",
       "      <td>32</td>\n",
       "      <td>0.000005</td>\n",
       "    </tr>\n",
       "    <tr>\n",
       "      <th>11</th>\n",
       "      <td>82.338611</td>\n",
       "      <td>4972.838196</td>\n",
       "      <td>150</td>\n",
       "      <td>32</td>\n",
       "      <td>0.000005</td>\n",
       "    </tr>\n",
       "  </tbody>\n",
       "</table>\n",
       "</div>"
      ],
      "text/plain": [
       "     accuracy  training_time  num_epochs  batch_size        lr\n",
       "8   75.700365     942.959489          30          32  0.000005\n",
       "9   79.658952    1564.509933          50          32  0.000005\n",
       "10  81.059683    2521.779356          80          32  0.000005\n",
       "11  82.338611    4972.838196         150          32  0.000005"
      ]
     },
     "execution_count": 8,
     "metadata": {},
     "output_type": "execute_result"
    }
   ],
   "source": [
    "topic_df.head(10)"
   ]
  },
  {
   "cell_type": "code",
   "execution_count": 14,
   "id": "6b57188354196fc2",
   "metadata": {
    "ExecuteTime": {
     "end_time": "2025-07-24T09:25:23.080877Z",
     "start_time": "2025-07-24T09:25:23.006603Z"
    }
   },
   "outputs": [
    {
     "data": {
      "image/png": "[encoded data removed]",
      "text/plain": [
       "<Figure size 1000x600 with 1 Axes>"
      ]
     },
     "metadata": {},
     "output_type": "display_data"
    }
   ],
   "source": [
    "# plot accuracy vs num_epochs\n",
    "import matplotlib.pyplot as plt\n",
    "\n",
    "plt.figure(figsize=(10, 6))\n",
    "plt.plot(topic_df[\"num_epochs\"], topic_df[\"accuracy\"], marker=\"o\")\n",
    "# plt.title(\"Accuracy vs Number of Epochs for Topic Classification\")\n",
    "plt.xlabel(\"Number of Epochs\")\n",
    "plt.ylabel(\"Accuracy\")\n",
    "plt.grid()\n",
    "plt.show()"
   ]
  },
  {
   "cell_type": "code",
   "execution_count": 11,
   "id": "47a7c3522288cdc5",
   "metadata": {
    "ExecuteTime": {
     "end_time": "2025-07-23T10:25:36.585207Z",
     "start_time": "2025-07-23T10:25:36.497661Z"
    }
   },
   "outputs": [
    {
     "data": {
      "image/png": "[encoded data removed]",
      "text/plain": [
       "<Figure size 1000x600 with 1 Axes>"
      ]
     },
     "metadata": {},
     "output_type": "display_data"
    }
   ],
   "source": [
    "# plot accuracy vs num_epochs\n",
    "import matplotlib.pyplot as plt\n",
    "\n",
    "plt.figure(figsize=(10, 6))\n",
    "plt.plot(topic_df[\"num_epochs\"], topic_df[\"accuracy\"], marker=\"o\")\n",
    "plt.grid()\n",
    "plt.show()"
   ]
  },
  {
   "cell_type": "code",
   "execution_count": 10,
   "id": "af469054f818c822",
   "metadata": {
    "ExecuteTime": {
     "end_time": "2025-07-23T10:24:11.809573Z",
     "start_time": "2025-07-23T10:24:11.710260Z"
    }
   },
   "outputs": [
    {
     "data": {
      "image/png": "[encoded data removed]",
      "text/plain": [
       "<Figure size 1000x600 with 1 Axes>"
      ]
     },
     "metadata": {},
     "output_type": "display_data"
    }
   ],
   "source": [
    "# plot training time vs num_epochs\n",
    "plt.figure(figsize=(10, 6))\n",
    "plt.plot(topic_df[\"num_epochs\"], topic_df[\"training_time\"], marker=\"o\")\n",
    "plt.title(\"Training Time vs Number of Epochs\")\n",
    "plt.xlabel(\"Number of Epochs\")\n",
    "plt.ylabel(\"Training Time (seconds)\")\n",
    "plt.grid()\n",
    "plt.show()"
   ]
  },
  {
   "cell_type": "code",
   "execution_count": 68,
   "id": "9413ad6efb04eadd",
   "metadata": {
    "ExecuteTime": {
     "end_time": "2025-07-13T23:44:51.102201Z",
     "start_time": "2025-07-13T23:44:51.098577Z"
    }
   },
   "outputs": [],
   "source": [
    "emotion_df = pd.read_csv(\n",
    "    \"/Users/nguyennguyen/Desktop/github_repos/personal/rag_medical/src/data/training_logs/emotion_recognition.csv\"\n",
    ")"
   ]
  },
  {
   "cell_type": "code",
   "execution_count": 69,
   "id": "ca87ef0f772ada89",
   "metadata": {
    "ExecuteTime": {
     "end_time": "2025-07-13T23:44:51.120354Z",
     "start_time": "2025-07-13T23:44:51.112911Z"
    }
   },
   "outputs": [
    {
     "data": {
      "text/html": [
       "<div>\n",
       "<style scoped>\n",
       "    .dataframe tbody tr th:only-of-type {\n",
       "        vertical-align: middle;\n",
       "    }\n",
       "\n",
       "    .dataframe tbody tr th {\n",
       "        vertical-align: top;\n",
       "    }\n",
       "\n",
       "    .dataframe thead th {\n",
       "        text-align: right;\n",
       "    }\n",
       "</style>\n",
       "<table border=\"1\" class=\"dataframe\">\n",
       "  <thead>\n",
       "    <tr style=\"text-align: right;\">\n",
       "      <th></th>\n",
       "      <th>unique_predicted_labels</th>\n",
       "      <th>accuracy</th>\n",
       "      <th>precision</th>\n",
       "      <th>recall</th>\n",
       "      <th>f1_score</th>\n",
       "      <th>confusion_matrix</th>\n",
       "      <th>train_loss</th>\n",
       "      <th>val_loss</th>\n",
       "      <th>start_time</th>\n",
       "      <th>end_time</th>\n",
       "      <th>...</th>\n",
       "      <th>num_classes</th>\n",
       "      <th>kernel_sizes</th>\n",
       "      <th>num_filters</th>\n",
       "      <th>lr</th>\n",
       "      <th>dropout</th>\n",
       "      <th>batch_size</th>\n",
       "      <th>train_data_path</th>\n",
       "      <th>test_data_path</th>\n",
       "      <th>validation_data_path</th>\n",
       "      <th>model_path</th>\n",
       "    </tr>\n",
       "  </thead>\n",
       "  <tbody>\n",
       "    <tr>\n",
       "      <th>0</th>\n",
       "      <td>[0, 1, 2, 3, 4, 5]</td>\n",
       "      <td>84.70</td>\n",
       "      <td>84.915851</td>\n",
       "      <td>84.70</td>\n",
       "      <td>84.324688</td>\n",
       "      <td>sadness       joy      love     ang...</td>\n",
       "      <td>0.950246</td>\n",
       "      <td>0.430800</td>\n",
       "      <td>2025-06-08 13:40:20.725583</td>\n",
       "      <td>2025-06-08 13:40:55.066882</td>\n",
       "      <td>...</td>\n",
       "      <td>6</td>\n",
       "      <td>[3, 4, 5]</td>\n",
       "      <td>100</td>\n",
       "      <td>0.0010</td>\n",
       "      <td>0.2</td>\n",
       "      <td>32</td>\n",
       "      <td>src/data/emotion_data/training.csv</td>\n",
       "      <td>src/data/emotion_data/test.csv</td>\n",
       "      <td>src/data/emotion_data/validation.csv</td>\n",
       "      <td>src/ml_models/model_files/cnn_model.pth</td>\n",
       "    </tr>\n",
       "    <tr>\n",
       "      <th>1</th>\n",
       "      <td>[0, 1, 2, 3, 4, 5]</td>\n",
       "      <td>73.45</td>\n",
       "      <td>73.552743</td>\n",
       "      <td>73.45</td>\n",
       "      <td>72.557264</td>\n",
       "      <td>sadness       joy      love     ang...</td>\n",
       "      <td>1.273541</td>\n",
       "      <td>0.788763</td>\n",
       "      <td>2025-06-08 13:44:19.730496</td>\n",
       "      <td>2025-06-08 13:44:37.579104</td>\n",
       "      <td>...</td>\n",
       "      <td>6</td>\n",
       "      <td>[3, 4, 5]</td>\n",
       "      <td>100</td>\n",
       "      <td>0.0010</td>\n",
       "      <td>0.2</td>\n",
       "      <td>32</td>\n",
       "      <td>src/data/emotion_data/training.csv</td>\n",
       "      <td>src/data/emotion_data/test.csv</td>\n",
       "      <td>src/data/emotion_data/validation.csv</td>\n",
       "      <td>src/ml_models/model_files/cnn_model.pth</td>\n",
       "    </tr>\n",
       "    <tr>\n",
       "      <th>2</th>\n",
       "      <td>[0, 1, 2, 3, 4, 5]</td>\n",
       "      <td>84.95</td>\n",
       "      <td>85.443026</td>\n",
       "      <td>84.95</td>\n",
       "      <td>84.836444</td>\n",
       "      <td>sadness       joy      love     ang...</td>\n",
       "      <td>0.923899</td>\n",
       "      <td>0.441151</td>\n",
       "      <td>2025-06-08 13:44:41.048906</td>\n",
       "      <td>2025-06-08 13:45:14.084862</td>\n",
       "      <td>...</td>\n",
       "      <td>6</td>\n",
       "      <td>[3, 4, 5]</td>\n",
       "      <td>100</td>\n",
       "      <td>0.0010</td>\n",
       "      <td>0.2</td>\n",
       "      <td>32</td>\n",
       "      <td>src/data/emotion_data/training.csv</td>\n",
       "      <td>src/data/emotion_data/test.csv</td>\n",
       "      <td>src/data/emotion_data/validation.csv</td>\n",
       "      <td>src/ml_models/model_files/cnn_model.pth</td>\n",
       "    </tr>\n",
       "    <tr>\n",
       "      <th>3</th>\n",
       "      <td>[0, 1, 2, 3, 4, 5]</td>\n",
       "      <td>67.20</td>\n",
       "      <td>70.603602</td>\n",
       "      <td>67.20</td>\n",
       "      <td>65.507185</td>\n",
       "      <td>sadness       joy      love     ang...</td>\n",
       "      <td>1.292763</td>\n",
       "      <td>0.836197</td>\n",
       "      <td>2025-06-08 13:46:31.245496</td>\n",
       "      <td>2025-06-08 13:46:48.808948</td>\n",
       "      <td>...</td>\n",
       "      <td>6</td>\n",
       "      <td>[3, 4, 5]</td>\n",
       "      <td>100</td>\n",
       "      <td>0.0010</td>\n",
       "      <td>0.2</td>\n",
       "      <td>32</td>\n",
       "      <td>src/data/emotion_data/training.csv</td>\n",
       "      <td>src/data/emotion_data/test.csv</td>\n",
       "      <td>src/data/emotion_data/validation.csv</td>\n",
       "      <td>src/ml_models/model_files/cnn_model.pth</td>\n",
       "    </tr>\n",
       "    <tr>\n",
       "      <th>4</th>\n",
       "      <td>[0, 1, 2, 3, 4, 5]</td>\n",
       "      <td>86.20</td>\n",
       "      <td>86.172968</td>\n",
       "      <td>86.20</td>\n",
       "      <td>86.139518</td>\n",
       "      <td>sadness       joy      love     ang...</td>\n",
       "      <td>0.910550</td>\n",
       "      <td>0.387863</td>\n",
       "      <td>2025-06-08 13:46:52.089089</td>\n",
       "      <td>2025-06-08 13:47:26.766960</td>\n",
       "      <td>...</td>\n",
       "      <td>6</td>\n",
       "      <td>[3, 4, 5]</td>\n",
       "      <td>100</td>\n",
       "      <td>0.0010</td>\n",
       "      <td>0.2</td>\n",
       "      <td>32</td>\n",
       "      <td>src/data/emotion_data/training.csv</td>\n",
       "      <td>src/data/emotion_data/test.csv</td>\n",
       "      <td>src/data/emotion_data/validation.csv</td>\n",
       "      <td>src/ml_models/model_files/cnn_model.pth</td>\n",
       "    </tr>\n",
       "    <tr>\n",
       "      <th>5</th>\n",
       "      <td>[0, 1, 2, 3, 4, 5]</td>\n",
       "      <td>86.65</td>\n",
       "      <td>86.783369</td>\n",
       "      <td>86.65</td>\n",
       "      <td>86.549719</td>\n",
       "      <td>sadness       joy      love     ang...</td>\n",
       "      <td>0.807419</td>\n",
       "      <td>0.369140</td>\n",
       "      <td>2025-06-08 13:47:31.182669</td>\n",
       "      <td>2025-06-08 13:48:23.556576</td>\n",
       "      <td>...</td>\n",
       "      <td>6</td>\n",
       "      <td>[3, 4, 5]</td>\n",
       "      <td>100</td>\n",
       "      <td>0.0010</td>\n",
       "      <td>0.2</td>\n",
       "      <td>32</td>\n",
       "      <td>src/data/emotion_data/training.csv</td>\n",
       "      <td>src/data/emotion_data/test.csv</td>\n",
       "      <td>src/data/emotion_data/validation.csv</td>\n",
       "      <td>src/ml_models/model_files/cnn_model.pth</td>\n",
       "    </tr>\n",
       "    <tr>\n",
       "      <th>6</th>\n",
       "      <td>[0, 1, 2, 3, 4, 5]</td>\n",
       "      <td>89.20</td>\n",
       "      <td>89.234655</td>\n",
       "      <td>89.20</td>\n",
       "      <td>89.124689</td>\n",
       "      <td>sadness       joy      love     ang...</td>\n",
       "      <td>0.056995</td>\n",
       "      <td>0.396522</td>\n",
       "      <td>2025-06-08 13:49:27.173375</td>\n",
       "      <td>2025-06-08 13:51:32.431321</td>\n",
       "      <td>...</td>\n",
       "      <td>6</td>\n",
       "      <td>[3, 4, 5]</td>\n",
       "      <td>100</td>\n",
       "      <td>0.0010</td>\n",
       "      <td>0.2</td>\n",
       "      <td>32</td>\n",
       "      <td>src/data/emotion_data/training.csv</td>\n",
       "      <td>src/data/emotion_data/test.csv</td>\n",
       "      <td>src/data/emotion_data/validation.csv</td>\n",
       "      <td>src/ml_models/model_files/cnn_model.pth</td>\n",
       "    </tr>\n",
       "    <tr>\n",
       "      <th>7</th>\n",
       "      <td>[0, 1, 2, 3, 4, 5]</td>\n",
       "      <td>90.10</td>\n",
       "      <td>90.182899</td>\n",
       "      <td>90.10</td>\n",
       "      <td>90.098485</td>\n",
       "      <td>sadness       joy      love     ang...</td>\n",
       "      <td>0.067682</td>\n",
       "      <td>0.501400</td>\n",
       "      <td>2025-06-08 13:51:35.781181</td>\n",
       "      <td>2025-06-08 13:56:45.780583</td>\n",
       "      <td>...</td>\n",
       "      <td>6</td>\n",
       "      <td>[3, 4, 5]</td>\n",
       "      <td>100</td>\n",
       "      <td>0.0010</td>\n",
       "      <td>0.2</td>\n",
       "      <td>32</td>\n",
       "      <td>src/data/emotion_data/training.csv</td>\n",
       "      <td>src/data/emotion_data/test.csv</td>\n",
       "      <td>src/data/emotion_data/validation.csv</td>\n",
       "      <td>src/ml_models/model_files/cnn_model.pth</td>\n",
       "    </tr>\n",
       "    <tr>\n",
       "      <th>8</th>\n",
       "      <td>[0, 1, 2, 3, 4, 5]</td>\n",
       "      <td>89.60</td>\n",
       "      <td>89.850662</td>\n",
       "      <td>89.60</td>\n",
       "      <td>89.363456</td>\n",
       "      <td>sadness       joy      love     ang...</td>\n",
       "      <td>0.071816</td>\n",
       "      <td>0.671997</td>\n",
       "      <td>2025-06-08 13:56:49.802445</td>\n",
       "      <td>2025-06-08 14:05:48.147762</td>\n",
       "      <td>...</td>\n",
       "      <td>6</td>\n",
       "      <td>[3, 4, 5]</td>\n",
       "      <td>100</td>\n",
       "      <td>0.0010</td>\n",
       "      <td>0.2</td>\n",
       "      <td>32</td>\n",
       "      <td>src/data/emotion_data/training.csv</td>\n",
       "      <td>src/data/emotion_data/test.csv</td>\n",
       "      <td>src/data/emotion_data/validation.csv</td>\n",
       "      <td>src/ml_models/model_files/cnn_model.pth</td>\n",
       "    </tr>\n",
       "    <tr>\n",
       "      <th>9</th>\n",
       "      <td>[0, 1, 2, 3, 4, 5]</td>\n",
       "      <td>83.10</td>\n",
       "      <td>83.474214</td>\n",
       "      <td>83.10</td>\n",
       "      <td>82.812790</td>\n",
       "      <td>sadness       joy      love     ang...</td>\n",
       "      <td>0.197957</td>\n",
       "      <td>0.449083</td>\n",
       "      <td>2025-06-08 14:24:45.558752</td>\n",
       "      <td>2025-06-08 14:29:27.101048</td>\n",
       "      <td>...</td>\n",
       "      <td>6</td>\n",
       "      <td>[3, 4, 5]</td>\n",
       "      <td>100</td>\n",
       "      <td>0.0001</td>\n",
       "      <td>0.2</td>\n",
       "      <td>64</td>\n",
       "      <td>src/data/emotion_data/training.csv</td>\n",
       "      <td>src/data/emotion_data/test.csv</td>\n",
       "      <td>src/data/emotion_data/validation.csv</td>\n",
       "      <td>src/ml_models/model_files/cnn_model.pth</td>\n",
       "    </tr>\n",
       "  </tbody>\n",
       "</table>\n",
       "<p>10 rows × 23 columns</p>\n",
       "</div>"
      ],
      "text/plain": [
       "  unique_predicted_labels  accuracy  precision  recall   f1_score  \\\n",
       "0      [0, 1, 2, 3, 4, 5]     84.70  84.915851   84.70  84.324688   \n",
       "1      [0, 1, 2, 3, 4, 5]     73.45  73.552743   73.45  72.557264   \n",
       "2      [0, 1, 2, 3, 4, 5]     84.95  85.443026   84.95  84.836444   \n",
       "3      [0, 1, 2, 3, 4, 5]     67.20  70.603602   67.20  65.507185   \n",
       "4      [0, 1, 2, 3, 4, 5]     86.20  86.172968   86.20  86.139518   \n",
       "5      [0, 1, 2, 3, 4, 5]     86.65  86.783369   86.65  86.549719   \n",
       "6      [0, 1, 2, 3, 4, 5]     89.20  89.234655   89.20  89.124689   \n",
       "7      [0, 1, 2, 3, 4, 5]     90.10  90.182899   90.10  90.098485   \n",
       "8      [0, 1, 2, 3, 4, 5]     89.60  89.850662   89.60  89.363456   \n",
       "9      [0, 1, 2, 3, 4, 5]     83.10  83.474214   83.10  82.812790   \n",
       "\n",
       "                                    confusion_matrix  train_loss  val_loss  \\\n",
       "0             sadness       joy      love     ang...    0.950246  0.430800   \n",
       "1             sadness       joy      love     ang...    1.273541  0.788763   \n",
       "2             sadness       joy      love     ang...    0.923899  0.441151   \n",
       "3             sadness       joy      love     ang...    1.292763  0.836197   \n",
       "4             sadness       joy      love     ang...    0.910550  0.387863   \n",
       "5             sadness       joy      love     ang...    0.807419  0.369140   \n",
       "6             sadness       joy      love     ang...    0.056995  0.396522   \n",
       "7             sadness       joy      love     ang...    0.067682  0.501400   \n",
       "8             sadness       joy      love     ang...    0.071816  0.671997   \n",
       "9             sadness       joy      love     ang...    0.197957  0.449083   \n",
       "\n",
       "                   start_time                    end_time  ...  num_classes  \\\n",
       "0  2025-06-08 13:40:20.725583  2025-06-08 13:40:55.066882  ...            6   \n",
       "1  2025-06-08 13:44:19.730496  2025-06-08 13:44:37.579104  ...            6   \n",
       "2  2025-06-08 13:44:41.048906  2025-06-08 13:45:14.084862  ...            6   \n",
       "3  2025-06-08 13:46:31.245496  2025-06-08 13:46:48.808948  ...            6   \n",
       "4  2025-06-08 13:46:52.089089  2025-06-08 13:47:26.766960  ...            6   \n",
       "5  2025-06-08 13:47:31.182669  2025-06-08 13:48:23.556576  ...            6   \n",
       "6  2025-06-08 13:49:27.173375  2025-06-08 13:51:32.431321  ...            6   \n",
       "7  2025-06-08 13:51:35.781181  2025-06-08 13:56:45.780583  ...            6   \n",
       "8  2025-06-08 13:56:49.802445  2025-06-08 14:05:48.147762  ...            6   \n",
       "9  2025-06-08 14:24:45.558752  2025-06-08 14:29:27.101048  ...            6   \n",
       "\n",
       "   kernel_sizes  num_filters      lr dropout  batch_size  \\\n",
       "0     [3, 4, 5]          100  0.0010     0.2          32   \n",
       "1     [3, 4, 5]          100  0.0010     0.2          32   \n",
       "2     [3, 4, 5]          100  0.0010     0.2          32   \n",
       "3     [3, 4, 5]          100  0.0010     0.2          32   \n",
       "4     [3, 4, 5]          100  0.0010     0.2          32   \n",
       "5     [3, 4, 5]          100  0.0010     0.2          32   \n",
       "6     [3, 4, 5]          100  0.0010     0.2          32   \n",
       "7     [3, 4, 5]          100  0.0010     0.2          32   \n",
       "8     [3, 4, 5]          100  0.0010     0.2          32   \n",
       "9     [3, 4, 5]          100  0.0001     0.2          64   \n",
       "\n",
       "                      train_data_path                  test_data_path  \\\n",
       "0  src/data/emotion_data/training.csv  src/data/emotion_data/test.csv   \n",
       "1  src/data/emotion_data/training.csv  src/data/emotion_data/test.csv   \n",
       "2  src/data/emotion_data/training.csv  src/data/emotion_data/test.csv   \n",
       "3  src/data/emotion_data/training.csv  src/data/emotion_data/test.csv   \n",
       "4  src/data/emotion_data/training.csv  src/data/emotion_data/test.csv   \n",
       "5  src/data/emotion_data/training.csv  src/data/emotion_data/test.csv   \n",
       "6  src/data/emotion_data/training.csv  src/data/emotion_data/test.csv   \n",
       "7  src/data/emotion_data/training.csv  src/data/emotion_data/test.csv   \n",
       "8  src/data/emotion_data/training.csv  src/data/emotion_data/test.csv   \n",
       "9  src/data/emotion_data/training.csv  src/data/emotion_data/test.csv   \n",
       "\n",
       "                   validation_data_path  \\\n",
       "0  src/data/emotion_data/validation.csv   \n",
       "1  src/data/emotion_data/validation.csv   \n",
       "2  src/data/emotion_data/validation.csv   \n",
       "3  src/data/emotion_data/validation.csv   \n",
       "4  src/data/emotion_data/validation.csv   \n",
       "5  src/data/emotion_data/validation.csv   \n",
       "6  src/data/emotion_data/validation.csv   \n",
       "7  src/data/emotion_data/validation.csv   \n",
       "8  src/data/emotion_data/validation.csv   \n",
       "9  src/data/emotion_data/validation.csv   \n",
       "\n",
       "                                model_path  \n",
       "0  src/ml_models/model_files/cnn_model.pth  \n",
       "1  src/ml_models/model_files/cnn_model.pth  \n",
       "2  src/ml_models/model_files/cnn_model.pth  \n",
       "3  src/ml_models/model_files/cnn_model.pth  \n",
       "4  src/ml_models/model_files/cnn_model.pth  \n",
       "5  src/ml_models/model_files/cnn_model.pth  \n",
       "6  src/ml_models/model_files/cnn_model.pth  \n",
       "7  src/ml_models/model_files/cnn_model.pth  \n",
       "8  src/ml_models/model_files/cnn_model.pth  \n",
       "9  src/ml_models/model_files/cnn_model.pth  \n",
       "\n",
       "[10 rows x 23 columns]"
      ]
     },
     "execution_count": 69,
     "metadata": {},
     "output_type": "execute_result"
    }
   ],
   "source": [
    "emotion_df.head(10)"
   ]
  },
  {
   "cell_type": "code",
   "execution_count": 70,
   "id": "b0db591d763a6f3c",
   "metadata": {
    "ExecuteTime": {
     "end_time": "2025-07-13T23:44:51.150055Z",
     "start_time": "2025-07-13T23:44:51.147921Z"
    }
   },
   "outputs": [],
   "source": [
    "emotion_df = emotion_df[[\"accuracy\", \"training_time\", \"num_epochs\", \"batch_size\", \"lr\"]]"
   ]
  },
  {
   "cell_type": "code",
   "execution_count": 71,
   "id": "f6351293cfb724b4",
   "metadata": {
    "ExecuteTime": {
     "end_time": "2025-07-13T23:44:51.177144Z",
     "start_time": "2025-07-13T23:44:51.173258Z"
    }
   },
   "outputs": [
    {
     "data": {
      "text/html": [
       "<div>\n",
       "<style scoped>\n",
       "    .dataframe tbody tr th:only-of-type {\n",
       "        vertical-align: middle;\n",
       "    }\n",
       "\n",
       "    .dataframe tbody tr th {\n",
       "        vertical-align: top;\n",
       "    }\n",
       "\n",
       "    .dataframe thead th {\n",
       "        text-align: right;\n",
       "    }\n",
       "</style>\n",
       "<table border=\"1\" class=\"dataframe\">\n",
       "  <thead>\n",
       "    <tr style=\"text-align: right;\">\n",
       "      <th></th>\n",
       "      <th>accuracy</th>\n",
       "      <th>training_time</th>\n",
       "      <th>num_epochs</th>\n",
       "      <th>batch_size</th>\n",
       "      <th>lr</th>\n",
       "    </tr>\n",
       "  </thead>\n",
       "  <tbody>\n",
       "    <tr>\n",
       "      <th>0</th>\n",
       "      <td>84.70</td>\n",
       "      <td>34.341299</td>\n",
       "      <td>1</td>\n",
       "      <td>32</td>\n",
       "      <td>0.001</td>\n",
       "    </tr>\n",
       "    <tr>\n",
       "      <th>1</th>\n",
       "      <td>73.45</td>\n",
       "      <td>17.848608</td>\n",
       "      <td>10</td>\n",
       "      <td>32</td>\n",
       "      <td>0.001</td>\n",
       "    </tr>\n",
       "    <tr>\n",
       "      <th>2</th>\n",
       "      <td>84.95</td>\n",
       "      <td>33.035956</td>\n",
       "      <td>10</td>\n",
       "      <td>32</td>\n",
       "      <td>0.001</td>\n",
       "    </tr>\n",
       "    <tr>\n",
       "      <th>3</th>\n",
       "      <td>67.20</td>\n",
       "      <td>17.563452</td>\n",
       "      <td>10</td>\n",
       "      <td>32</td>\n",
       "      <td>0.001</td>\n",
       "    </tr>\n",
       "    <tr>\n",
       "      <th>4</th>\n",
       "      <td>86.20</td>\n",
       "      <td>34.677871</td>\n",
       "      <td>10</td>\n",
       "      <td>32</td>\n",
       "      <td>0.001</td>\n",
       "    </tr>\n",
       "  </tbody>\n",
       "</table>\n",
       "</div>"
      ],
      "text/plain": [
       "   accuracy  training_time  num_epochs  batch_size     lr\n",
       "0     84.70      34.341299           1          32  0.001\n",
       "1     73.45      17.848608          10          32  0.001\n",
       "2     84.95      33.035956          10          32  0.001\n",
       "3     67.20      17.563452          10          32  0.001\n",
       "4     86.20      34.677871          10          32  0.001"
      ]
     },
     "execution_count": 71,
     "metadata": {},
     "output_type": "execute_result"
    }
   ],
   "source": [
    "emotion_df.head()"
   ]
  },
  {
   "cell_type": "code",
   "execution_count": 72,
   "id": "4334bd8c274b5a32",
   "metadata": {
    "ExecuteTime": {
     "end_time": "2025-07-13T23:44:51.226538Z",
     "start_time": "2025-07-13T23:44:51.221890Z"
    }
   },
   "outputs": [
    {
     "data": {
      "text/plain": [
       "lr\n",
       "0.0010    14\n",
       "0.0001     4\n",
       "Name: count, dtype: int64"
      ]
     },
     "execution_count": 72,
     "metadata": {},
     "output_type": "execute_result"
    }
   ],
   "source": [
    "emotion_df[\"lr\"].value_counts()"
   ]
  },
  {
   "cell_type": "code",
   "execution_count": 73,
   "id": "2d186c8e58692225",
   "metadata": {
    "ExecuteTime": {
     "end_time": "2025-07-13T23:44:51.271716Z",
     "start_time": "2025-07-13T23:44:51.269089Z"
    }
   },
   "outputs": [],
   "source": [
    "emotion_df_lr_0_001 = emotion_df[emotion_df[\"lr\"] == 0.001]\n",
    "emotion_df_lr_0_0001 = emotion_df[emotion_df[\"lr\"] == 0.0001]"
   ]
  },
  {
   "cell_type": "code",
   "execution_count": 74,
   "id": "8fb5d6ad6386844c",
   "metadata": {
    "ExecuteTime": {
     "end_time": "2025-07-13T23:44:51.312662Z",
     "start_time": "2025-07-13T23:44:51.308150Z"
    }
   },
   "outputs": [
    {
     "data": {
      "text/html": [
       "<div>\n",
       "<style scoped>\n",
       "    .dataframe tbody tr th:only-of-type {\n",
       "        vertical-align: middle;\n",
       "    }\n",
       "\n",
       "    .dataframe tbody tr th {\n",
       "        vertical-align: top;\n",
       "    }\n",
       "\n",
       "    .dataframe thead th {\n",
       "        text-align: right;\n",
       "    }\n",
       "</style>\n",
       "<table border=\"1\" class=\"dataframe\">\n",
       "  <thead>\n",
       "    <tr style=\"text-align: right;\">\n",
       "      <th></th>\n",
       "      <th>accuracy</th>\n",
       "      <th>training_time</th>\n",
       "      <th>num_epochs</th>\n",
       "      <th>batch_size</th>\n",
       "      <th>lr</th>\n",
       "    </tr>\n",
       "  </thead>\n",
       "  <tbody>\n",
       "    <tr>\n",
       "      <th>0</th>\n",
       "      <td>84.70</td>\n",
       "      <td>34.341299</td>\n",
       "      <td>1</td>\n",
       "      <td>32</td>\n",
       "      <td>0.001</td>\n",
       "    </tr>\n",
       "    <tr>\n",
       "      <th>1</th>\n",
       "      <td>73.45</td>\n",
       "      <td>17.848608</td>\n",
       "      <td>10</td>\n",
       "      <td>32</td>\n",
       "      <td>0.001</td>\n",
       "    </tr>\n",
       "    <tr>\n",
       "      <th>2</th>\n",
       "      <td>84.95</td>\n",
       "      <td>33.035956</td>\n",
       "      <td>10</td>\n",
       "      <td>32</td>\n",
       "      <td>0.001</td>\n",
       "    </tr>\n",
       "    <tr>\n",
       "      <th>3</th>\n",
       "      <td>67.20</td>\n",
       "      <td>17.563452</td>\n",
       "      <td>10</td>\n",
       "      <td>32</td>\n",
       "      <td>0.001</td>\n",
       "    </tr>\n",
       "    <tr>\n",
       "      <th>4</th>\n",
       "      <td>86.20</td>\n",
       "      <td>34.677871</td>\n",
       "      <td>10</td>\n",
       "      <td>32</td>\n",
       "      <td>0.001</td>\n",
       "    </tr>\n",
       "    <tr>\n",
       "      <th>5</th>\n",
       "      <td>86.65</td>\n",
       "      <td>52.373907</td>\n",
       "      <td>10</td>\n",
       "      <td>32</td>\n",
       "      <td>0.001</td>\n",
       "    </tr>\n",
       "    <tr>\n",
       "      <th>6</th>\n",
       "      <td>89.20</td>\n",
       "      <td>125.257946</td>\n",
       "      <td>10</td>\n",
       "      <td>32</td>\n",
       "      <td>0.001</td>\n",
       "    </tr>\n",
       "    <tr>\n",
       "      <th>7</th>\n",
       "      <td>90.10</td>\n",
       "      <td>309.999402</td>\n",
       "      <td>10</td>\n",
       "      <td>32</td>\n",
       "      <td>0.001</td>\n",
       "    </tr>\n",
       "    <tr>\n",
       "      <th>8</th>\n",
       "      <td>89.60</td>\n",
       "      <td>538.345317</td>\n",
       "      <td>10</td>\n",
       "      <td>32</td>\n",
       "      <td>0.001</td>\n",
       "    </tr>\n",
       "    <tr>\n",
       "      <th>13</th>\n",
       "      <td>90.00</td>\n",
       "      <td>292.197752</td>\n",
       "      <td>10</td>\n",
       "      <td>32</td>\n",
       "      <td>0.001</td>\n",
       "    </tr>\n",
       "  </tbody>\n",
       "</table>\n",
       "</div>"
      ],
      "text/plain": [
       "    accuracy  training_time  num_epochs  batch_size     lr\n",
       "0      84.70      34.341299           1          32  0.001\n",
       "1      73.45      17.848608          10          32  0.001\n",
       "2      84.95      33.035956          10          32  0.001\n",
       "3      67.20      17.563452          10          32  0.001\n",
       "4      86.20      34.677871          10          32  0.001\n",
       "5      86.65      52.373907          10          32  0.001\n",
       "6      89.20     125.257946          10          32  0.001\n",
       "7      90.10     309.999402          10          32  0.001\n",
       "8      89.60     538.345317          10          32  0.001\n",
       "13     90.00     292.197752          10          32  0.001"
      ]
     },
     "execution_count": 74,
     "metadata": {},
     "output_type": "execute_result"
    }
   ],
   "source": [
    "emotion_df_lr_0_001.head(10)"
   ]
  },
  {
   "cell_type": "code",
   "execution_count": 75,
   "id": "4389c14c6a29b4af",
   "metadata": {
    "ExecuteTime": {
     "end_time": "2025-07-13T23:44:51.349605Z",
     "start_time": "2025-07-13T23:44:51.346273Z"
    }
   },
   "outputs": [
    {
     "data": {
      "text/html": [
       "<div>\n",
       "<style scoped>\n",
       "    .dataframe tbody tr th:only-of-type {\n",
       "        vertical-align: middle;\n",
       "    }\n",
       "\n",
       "    .dataframe tbody tr th {\n",
       "        vertical-align: top;\n",
       "    }\n",
       "\n",
       "    .dataframe thead th {\n",
       "        text-align: right;\n",
       "    }\n",
       "</style>\n",
       "<table border=\"1\" class=\"dataframe\">\n",
       "  <thead>\n",
       "    <tr style=\"text-align: right;\">\n",
       "      <th></th>\n",
       "      <th>accuracy</th>\n",
       "      <th>training_time</th>\n",
       "      <th>num_epochs</th>\n",
       "      <th>batch_size</th>\n",
       "      <th>lr</th>\n",
       "    </tr>\n",
       "  </thead>\n",
       "  <tbody>\n",
       "    <tr>\n",
       "      <th>9</th>\n",
       "      <td>83.10</td>\n",
       "      <td>281.542296</td>\n",
       "      <td>10</td>\n",
       "      <td>64</td>\n",
       "      <td>0.0001</td>\n",
       "    </tr>\n",
       "    <tr>\n",
       "      <th>10</th>\n",
       "      <td>87.80</td>\n",
       "      <td>352.437737</td>\n",
       "      <td>10</td>\n",
       "      <td>32</td>\n",
       "      <td>0.0001</td>\n",
       "    </tr>\n",
       "    <tr>\n",
       "      <th>11</th>\n",
       "      <td>86.70</td>\n",
       "      <td>658.362112</td>\n",
       "      <td>20</td>\n",
       "      <td>16</td>\n",
       "      <td>0.0001</td>\n",
       "    </tr>\n",
       "    <tr>\n",
       "      <th>12</th>\n",
       "      <td>88.55</td>\n",
       "      <td>614.759723</td>\n",
       "      <td>20</td>\n",
       "      <td>32</td>\n",
       "      <td>0.0001</td>\n",
       "    </tr>\n",
       "  </tbody>\n",
       "</table>\n",
       "</div>"
      ],
      "text/plain": [
       "    accuracy  training_time  num_epochs  batch_size      lr\n",
       "9      83.10     281.542296          10          64  0.0001\n",
       "10     87.80     352.437737          10          32  0.0001\n",
       "11     86.70     658.362112          20          16  0.0001\n",
       "12     88.55     614.759723          20          32  0.0001"
      ]
     },
     "execution_count": 75,
     "metadata": {},
     "output_type": "execute_result"
    }
   ],
   "source": [
    "emotion_df_lr_0_0001.head(10)"
   ]
  },
  {
   "cell_type": "code",
   "execution_count": null,
   "id": "8af8816eb779cd36",
   "metadata": {
    "ExecuteTime": {
     "end_time": "2025-07-13T23:44:51.399453Z",
     "start_time": "2025-07-13T23:44:51.395692Z"
    }
   },
   "outputs": [],
   "source": []
  },
  {
   "cell_type": "code",
   "execution_count": null,
   "id": "3f4af38ab4abb8eb",
   "metadata": {},
   "outputs": [],
   "source": []
  },
  {
   "cell_type": "code",
   "execution_count": null,
   "id": "dd73fb2fbf304368",
   "metadata": {},
   "outputs": [],
   "source": []
  },
  {
   "cell_type": "code",
   "execution_count": null,
   "id": "b4fa0da9b5fba242",
   "metadata": {},
   "outputs": [],
   "source": []
  },
  {
   "cell_type": "code",
   "execution_count": 13,
   "id": "fba94f83d8eb7d12",
   "metadata": {
    "ExecuteTime": {
     "end_time": "2025-07-24T08:12:59.667772Z",
     "start_time": "2025-07-24T08:12:59.510262Z"
    }
   },
   "outputs": [
    {
     "data": {
      "image/png": "[encoded data removed]",
      "text/plain": [
       "<Figure size 1000x600 with 1 Axes>"
      ]
     },
     "metadata": {},
     "output_type": "display_data"
    }
   ],
   "source": [
    "import matplotlib.pyplot as plt\n",
    "import numpy as np\n",
    "\n",
    "# Data\n",
    "metrics = [\"Accuracy\", \"Precision\", \"Recall\", \"F1-score\"]\n",
    "topic_classification = [82.34, 91.93, 82.34, 85.64]\n",
    "emotion_classification = [90.35, 90.45, 90.35, 90.31]\n",
    "\n",
    "# Settings\n",
    "bar_width = 0.35\n",
    "x = np.arange(len(metrics))  # 0, 1, 2, 3\n",
    "\n",
    "# Plot\n",
    "fig, ax = plt.subplots(figsize=(10, 6))\n",
    "bars1 = ax.bar(\n",
    "    x - bar_width / 2,\n",
    "    topic_classification,\n",
    "    bar_width,\n",
    "    label=\"Topic Classification\",\n",
    "    color=\"#1f77b4\",\n",
    ")\n",
    "bars2 = ax.bar(\n",
    "    x + bar_width / 2,\n",
    "    emotion_classification,\n",
    "    bar_width,\n",
    "    label=\"Emotion Classification\",\n",
    "    color=\"#ff7f0e\",\n",
    ")\n",
    "\n",
    "# Labels and formatting\n",
    "# ax.set_xlabel('Metrics')\n",
    "# ax.set_ylabel('Percentage (%)')\n",
    "# ax.set_title('Performance Comparison')\n",
    "ax.set_xticks(x)\n",
    "ax.set_xticklabels(metrics)\n",
    "ax.set_ylim(0, 100)\n",
    "ax.legend()\n",
    "\n",
    "# Annotate bars with values\n",
    "for bars in [bars1, bars2]:\n",
    "    for bar in bars:\n",
    "        height = bar.get_height()\n",
    "        ax.annotate(\n",
    "            f\"{height:.2f}%\",\n",
    "            xy=(bar.get_x() + bar.get_width() / 2, height),\n",
    "            xytext=(0, 3),  # vertical offset\n",
    "            textcoords=\"offset points\",\n",
    "            ha=\"center\",\n",
    "            va=\"bottom\",\n",
    "        )\n",
    "\n",
    "# Display the plot\n",
    "plt.tight_layout()\n",
    "plt.show()"
   ]
  },
  {
   "cell_type": "code",
   "execution_count": 17,
   "id": "b58feee7d065b2ce",
   "metadata": {
    "ExecuteTime": {
     "end_time": "2025-07-24T10:16:00.195942Z",
     "start_time": "2025-07-24T10:16:00.164894Z"
    }
   },
   "outputs": [
    {
     "name": "stdout",
     "output_type": "stream",
     "text": [
      "729\n"
     ]
    }
   ],
   "source": [
    "cancer_df = pd.read_csv(\n",
    "    \"/Users/nguyennguyen/Desktop/github_repos/personal/rag_medical/src/data/medical_data/cancer/CancerQA.csv\"\n",
    ")\n",
    "cancer_row = cancer_df.shape[0]\n",
    "print(cancer_row)"
   ]
  },
  {
   "cell_type": "code",
   "execution_count": 18,
   "id": "bc71e2469fb89c1d",
   "metadata": {
    "ExecuteTime": {
     "end_time": "2025-07-24T10:16:20.990179Z",
     "start_time": "2025-07-24T10:16:20.966694Z"
    }
   },
   "outputs": [
    {
     "name": "stdout",
     "output_type": "stream",
     "text": [
      "1192\n"
     ]
    }
   ],
   "source": [
    "diabetes_df = pd.read_csv(\n",
    "    \"/Users/nguyennguyen/Desktop/github_repos/personal/rag_medical/src/data/medical_data/diabetes/Diabetes_and_Digestive_and_Kidney_DiseasesQA.csv\"\n",
    ")\n",
    "diabetes_row = diabetes_df.shape[0]\n",
    "print(diabetes_row)"
   ]
  },
  {
   "cell_type": "code",
   "execution_count": 19,
   "id": "a16626b0840f63c1",
   "metadata": {
    "ExecuteTime": {
     "end_time": "2025-07-24T10:16:43.478394Z",
     "start_time": "2025-07-24T10:16:43.466164Z"
    }
   },
   "outputs": [
    {
     "name": "stdout",
     "output_type": "stream",
     "text": [
      "270\n"
     ]
    }
   ],
   "source": [
    "disease_df = pd.read_csv(\n",
    "    \"/Users/nguyennguyen/Desktop/github_repos/personal/rag_medical/src/data/medical_data/disease_control_and_prevention/Disease_Control_and_PreventionQA.csv\"\n",
    ")\n",
    "disease_row = disease_df.shape[0]\n",
    "print(disease_row)"
   ]
  },
  {
   "cell_type": "code",
   "execution_count": 20,
   "id": "b537dff37921e1e3",
   "metadata": {
    "ExecuteTime": {
     "end_time": "2025-07-24T10:17:27.213225Z",
     "start_time": "2025-07-24T10:17:27.136092Z"
    }
   },
   "outputs": [
    {
     "name": "stdout",
     "output_type": "stream",
     "text": [
      "5388\n"
     ]
    }
   ],
   "source": [
    "genetic_df = pd.read_csv(\n",
    "    \"/Users/nguyennguyen/Desktop/github_repos/personal/rag_medical/src/data/medical_data/genetic_and_rare_diseases/Genetic_and_Rare_DiseasesQA.csv\"\n",
    ")\n",
    "genetic_row = genetic_df.shape[0]\n",
    "print(genetic_row)"
   ]
  },
  {
   "cell_type": "code",
   "execution_count": 21,
   "id": "4ff0312cef01afdc",
   "metadata": {
    "ExecuteTime": {
     "end_time": "2025-07-24T10:18:01.856018Z",
     "start_time": "2025-07-24T10:18:01.805472Z"
    }
   },
   "outputs": [
    {
     "name": "stdout",
     "output_type": "stream",
     "text": [
      "5430\n"
     ]
    }
   ],
   "source": [
    "growth_df = pd.read_csv(\n",
    "    \"/Users/nguyennguyen/Desktop/github_repos/personal/rag_medical/src/data/medical_data/growth_hormone_receptor/growth_hormone_receptorQA.csv\"\n",
    ")\n",
    "growth_row = growth_df.shape[0]\n",
    "print(growth_row)"
   ]
  },
  {
   "cell_type": "code",
   "execution_count": 22,
   "id": "a0a5873f8d88e0fb",
   "metadata": {
    "ExecuteTime": {
     "end_time": "2025-07-24T10:18:24.658874Z",
     "start_time": "2025-07-24T10:18:24.637215Z"
    }
   },
   "outputs": [
    {
     "name": "stdout",
     "output_type": "stream",
     "text": [
      "559\n"
     ]
    }
   ],
   "source": [
    "heart_df = pd.read_csv(\n",
    "    \"/Users/nguyennguyen/Desktop/github_repos/personal/rag_medical/src/data/medical_data/heart_lung_and_blood/Heart_Lung_and_BloodQA.csv\"\n",
    ")\n",
    "heart_row = heart_df.shape[0]\n",
    "print(heart_row)"
   ]
  },
  {
   "cell_type": "code",
   "execution_count": 23,
   "id": "25f5e2e422ba128c",
   "metadata": {
    "ExecuteTime": {
     "end_time": "2025-07-24T10:19:02.046098Z",
     "start_time": "2025-07-24T10:19:02.033064Z"
    }
   },
   "outputs": [
    {
     "name": "stdout",
     "output_type": "stream",
     "text": [
      "1088\n"
     ]
    }
   ],
   "source": [
    "neurological_df = pd.read_csv(\n",
    "    \"/Users/nguyennguyen/Desktop/github_repos/personal/rag_medical/src/data/medical_data/neurological_disorders_and_stroke/Neurological_Disorders_and_StrokeQA.csv\"\n",
    ")\n",
    "neurological_row = neurological_df.shape[0]\n",
    "print(neurological_row)"
   ]
  },
  {
   "cell_type": "code",
   "execution_count": 24,
   "id": "fa5fdc7eb5ed019c",
   "metadata": {
    "ExecuteTime": {
     "end_time": "2025-07-24T10:19:25.009091Z",
     "start_time": "2025-07-24T10:19:24.994638Z"
    }
   },
   "outputs": [
    {
     "name": "stdout",
     "output_type": "stream",
     "text": [
      "981\n"
     ]
    }
   ],
   "source": [
    "other_df = pd.read_csv(\n",
    "    \"/Users/nguyennguyen/Desktop/github_repos/personal/rag_medical/src/data/medical_data/others/OtherQA.csv\"\n",
    ")\n",
    "other_row = other_df.shape[0]\n",
    "print(other_row)"
   ]
  },
  {
   "cell_type": "code",
   "execution_count": 25,
   "id": "286f3a10cdf7c35f",
   "metadata": {
    "ExecuteTime": {
     "end_time": "2025-07-24T10:19:54.406580Z",
     "start_time": "2025-07-24T10:19:54.391083Z"
    }
   },
   "outputs": [
    {
     "name": "stdout",
     "output_type": "stream",
     "text": [
      "769\n"
     ]
    }
   ],
   "source": [
    "senior_df = pd.read_csv(\n",
    "    \"/Users/nguyennguyen/Desktop/github_repos/personal/rag_medical/src/data/medical_data/senior_health/SeniorHealthQA.csv\"\n",
    ")\n",
    "senior_row = senior_df.shape[0]\n",
    "print(senior_row)"
   ]
  },
  {
   "cell_type": "code",
   "execution_count": 33,
   "id": "a146f0f88da2ba60",
   "metadata": {
    "ExecuteTime": {
     "end_time": "2025-07-24T10:24:00.474865Z",
     "start_time": "2025-07-24T10:24:00.401173Z"
    }
   },
   "outputs": [
    {
     "data": {
      "image/png": "[encoded data removed]",
      "text/plain": [
       "<Figure size 1200x600 with 1 Axes>"
      ]
     },
     "metadata": {},
     "output_type": "display_data"
    }
   ],
   "source": [
    "import pandas as pd\n",
    "import matplotlib.pyplot as plt\n",
    "\n",
    "# Sample data (replace with your actual row counts)\n",
    "data_row = {\n",
    "    \"Cancer\": cancer_row,\n",
    "    \"Diabetes\": diabetes_row,\n",
    "    \"Disease Control and Prevention\": disease_row,\n",
    "    \"Genetic and Rare Diseases\": genetic_row,\n",
    "    \"Growth Hormone Receptor\": growth_row,\n",
    "    \"Heart, Lung, and Blood\": heart_row,\n",
    "    \"Neurological Disorders and Stroke\": neurological_row,\n",
    "    \"Others\": other_row,\n",
    "    \"Senior Health\": senior_row,\n",
    "}\n",
    "\n",
    "# Convert to Series for easier plotting\n",
    "data_series = pd.Series(data_row)\n",
    "\n",
    "# Create the bar chart\n",
    "plt.figure(figsize=(12, 6))\n",
    "bars = plt.bar(data_series.index, data_series.values, color=\"steelblue\")\n",
    "plt.xticks(rotation=45, ha=\"right\")\n",
    "\n",
    "# Add data labels on top of bars\n",
    "for bar in bars:\n",
    "    height = bar.get_height()\n",
    "    plt.text(\n",
    "        bar.get_x() + bar.get_width() / 2,\n",
    "        height,\n",
    "        f\"{int(height)}\",\n",
    "        ha=\"center\",\n",
    "        va=\"bottom\",\n",
    "        fontsize=9,\n",
    "    )\n",
    "\n",
    "plt.tight_layout()\n",
    "plt.show()"
   ]
  },
  {
   "cell_type": "code",
   "execution_count": 28,
   "id": "1cc3770351852a3",
   "metadata": {
    "ExecuteTime": {
     "end_time": "2025-07-24T10:20:41.821171Z",
     "start_time": "2025-07-24T10:20:41.733216Z"
    }
   },
   "outputs": [
    {
     "data": {
      "text/plain": [
       "Text(0.5, 1.0, 'Number of Rows in Each Medical Dataset')"
      ]
     },
     "execution_count": 28,
     "metadata": {},
     "output_type": "execute_result"
    },
    {
     "data": {
      "image/png": "[encoded data removed]",
      "text/plain": [
       "<Figure size 1200x600 with 1 Axes>"
      ]
     },
     "metadata": {},
     "output_type": "display_data"
    }
   ],
   "source": [
    "import matplotlib.pyplot as plt\n",
    "\n",
    "data_row_df.plot(kind=\"bar\", figsize=(12, 6), legend=False)\n",
    "plt.title(\"Number of Rows in Each Medical Dataset\")"
   ]
  },
  {
   "cell_type": "code",
   "execution_count": null,
   "id": "d00147bb047dc125",
   "metadata": {},
   "outputs": [],
   "source": []
  }
 ],
 "metadata": {
  "kernelspec": {
   "display_name": "Python 3",
   "language": "python",
   "name": "python3"
  },
  "language_info": {
   "codemirror_mode": {
    "name": "ipython",
    "version": 2
   },
   "file_extension": ".py",
   "mimetype": "text/x-python",
   "name": "python",
   "nbconvert_exporter": "python",
   "pygments_lexer": "ipython2",
   "version": "2.7.6"
  }
 },
 "nbformat": 4,
 "nbformat_minor": 5
}
